{
 "cells": [
  {
   "cell_type": "code",
   "execution_count": 1,
   "metadata": {},
   "outputs": [
    {
     "name": "stdout",
     "output_type": "stream",
     "text": [
      "das\n"
     ]
    }
   ],
   "source": [
    "print ('das')"
   ]
  },
  {
   "cell_type": "code",
   "execution_count": 2,
   "metadata": {},
   "outputs": [
    {
     "data": {
      "text/plain": [
       "{1, 3}"
      ]
     },
     "execution_count": 2,
     "metadata": {},
     "output_type": "execute_result"
    }
   ],
   "source": [
    "set([3, 1, 3])"
   ]
  },
  {
   "cell_type": "code",
   "execution_count": 3,
   "metadata": {},
   "outputs": [
    {
     "data": {
      "text/plain": [
       "{0, 1, 2, 3, 4, 5, 6, 7, 8, 9, 10, 11, 12, 13, 14, 15, 16, 17, 18, 19}"
      ]
     },
     "execution_count": 3,
     "metadata": {},
     "output_type": "execute_result"
    }
   ],
   "source": [
    "set (range(0,20))"
   ]
  },
  {
   "cell_type": "code",
   "execution_count": 5,
   "metadata": {},
   "outputs": [],
   "source": [
    "s1 = set(range(0,5))"
   ]
  },
  {
   "cell_type": "code",
   "execution_count": 6,
   "metadata": {},
   "outputs": [],
   "source": [
    "s1.add('5')"
   ]
  },
  {
   "cell_type": "code",
   "execution_count": 7,
   "metadata": {},
   "outputs": [
    {
     "data": {
      "text/plain": [
       "{0, 1, 2, 3, 4, '5'}"
      ]
     },
     "execution_count": 7,
     "metadata": {},
     "output_type": "execute_result"
    }
   ],
   "source": [
    "s1\n"
   ]
  },
  {
   "cell_type": "code",
   "execution_count": 8,
   "metadata": {},
   "outputs": [],
   "source": [
    "s1.add(4)"
   ]
  },
  {
   "cell_type": "code",
   "execution_count": 9,
   "metadata": {},
   "outputs": [
    {
     "data": {
      "text/plain": [
       "{0, 1, 2, 3, 4, '5'}"
      ]
     },
     "execution_count": 9,
     "metadata": {},
     "output_type": "execute_result"
    }
   ],
   "source": [
    "s1"
   ]
  },
  {
   "cell_type": "code",
   "execution_count": 10,
   "metadata": {},
   "outputs": [
    {
     "data": {
      "text/plain": [
       "(4, '2', 5)"
      ]
     },
     "execution_count": 10,
     "metadata": {},
     "output_type": "execute_result"
    }
   ],
   "source": [
    "(4, '2', 5)"
   ]
  },
  {
   "cell_type": "code",
   "execution_count": 11,
   "metadata": {},
   "outputs": [],
   "source": [
    "eng2sp = dict()\n"
   ]
  },
  {
   "cell_type": "code",
   "execution_count": 12,
   "metadata": {},
   "outputs": [
    {
     "data": {
      "text/plain": [
       "{}"
      ]
     },
     "execution_count": 12,
     "metadata": {},
     "output_type": "execute_result"
    }
   ],
   "source": [
    "eng2sp"
   ]
  },
  {
   "cell_type": "code",
   "execution_count": 13,
   "metadata": {},
   "outputs": [],
   "source": [
    "eng2sp['one']='uno'"
   ]
  },
  {
   "cell_type": "code",
   "execution_count": 15,
   "metadata": {},
   "outputs": [
    {
     "data": {
      "text/plain": [
       "{'one': 'uno'}"
      ]
     },
     "execution_count": 15,
     "metadata": {},
     "output_type": "execute_result"
    }
   ],
   "source": [
    "eng2sp\n"
   ]
  },
  {
   "cell_type": "code",
   "execution_count": 16,
   "metadata": {},
   "outputs": [],
   "source": [
    "def histogram(s):\n",
    "    d=dict()\n",
    "    for c in s: \n",
    "        if c not in d:\n",
    "            d[c] = 1\n",
    "        else:\n",
    "            d[c]=d[c]+1\n",
    "    return d"
   ]
  },
  {
   "cell_type": "code",
   "execution_count": 18,
   "metadata": {},
   "outputs": [
    {
     "data": {
      "text/plain": [
       "{2: 2, 5: 3, 12: 2, 13: 1}"
      ]
     },
     "execution_count": 18,
     "metadata": {},
     "output_type": "execute_result"
    }
   ],
   "source": [
    "histogram ([2, 5, 5, 5, 2, 12, 13, 12])"
   ]
  },
  {
   "cell_type": "code",
   "execution_count": 19,
   "metadata": {},
   "outputs": [
    {
     "data": {
      "text/plain": [
       "{'А': 27,\n",
       " 'Б': 54,\n",
       " 'В': 18,\n",
       " 'Г': 13,\n",
       " 'Д': 12,\n",
       " 'Е': 107,\n",
       " 'Ё': 13,\n",
       " 'Ж': 20,\n",
       " 'З': 11,\n",
       " 'И': 21,\n",
       " 'Й': 38,\n",
       " 'К': 10,\n",
       " 'Л': 9,\n",
       " 'М': 26,\n",
       " 'Н': 15,\n",
       " 'О': 4,\n",
       " 'П': 19,\n",
       " 'Р': 43,\n",
       " 'С': 12,\n",
       " 'Т': 42,\n",
       " 'У': 26,\n",
       " 'Ф': 5,\n",
       " 'Х': 10,\n",
       " 'Ц': 10,\n",
       " 'Ч': 8,\n",
       " 'Ш': 3,\n",
       " 'Щ': 6,\n",
       " 'Ъ': 2,\n",
       " 'Ы': 4,\n",
       " 'Ь': 2,\n",
       " 'Э': 1}"
      ]
     },
     "execution_count": 19,
     "metadata": {},
     "output_type": "execute_result"
    }
   ],
   "source": [
    "histogram ('АБВГДАВЕЁЖЗИЖЙКЕЕЛБМНАБЕОПБМРЕКИРСЕЗБАБПТВЕЁТЙУМРЙМЖЙРЕУЖФТЙТПРЕЕУБАНБЕКИРСРЕЕАРУУПБМЕЗРАТХТВЙРДЕУЖАБЙРЕВТЦВГЕАРСИЧЁРЕУБАНШЕУИБВЕСРЕПЖЙМТФЕЩБКЧЪБШЕЗБЙНЕЕЛЫАЙНБЕКИРСРЕЕЦРАРЕПЕФТАБЕУТЙЙНХЕСПЫСВЕУЁТИГЦБЙГБЕЖЕЧЕЩТАМРЕВТЕЧМАРЕЗТОБИЧБПЕТМАРЦБЙГБЕЕУЖЙЖБЕКИРСРЕЕИЧЙРЕПРИГУРЕЩБИТБЕФТИЛРЙГБЕБЦБВЙБПЙРДЕУМБЙРЕЙБЖСЩБЦЙТКТЕЗАТЪРЙГДЕЕЁРАЖБЕКИРСРЕЕЗБУТЁЕТУБЙГЕПТИЛГДЕУМБЗГЕТХТМРЕУЁРЛЁРЕПУДЕЙРЕПТИТУТЁЕТМЕЗРВБЙГДЕЖЕЗТИЫМРЕЕЙБМЕДЕЙБЕУЧВГДЕВИДЕЙЖХЕЗАТУМТЕЩБСЕУЧЦВБЙЖШЕПСВТАЙНХЕДЕЛБМНАБЦВНЕВТИЦЙЖЁЕУЖЙЖХЕУБАНХЕЁРАЖХЕЛЫАЙНХЕЕЁРЁЕЛБМНАБЕУМТАТЙНЕТВЙТКТЕМТКТЕЦБЕОПБМРЕДЕИЬЩИЬЕЕПЕМТФЕЙБМЕПЖЙНЕЕПУБЕЛБМНАБЕЭМЖХЕОПБМР')"
   ]
  },
  {
   "cell_type": "code",
   "execution_count": 21,
   "metadata": {},
   "outputs": [
    {
     "data": {
      "text/plain": [
       "{'Ƶ': 4,\n",
       " 'Ɛ': 29,\n",
       " 'Ƅ': 7,\n",
       " 'Ƽ': 2,\n",
       " 'Ƈ': 7,\n",
       " 'ƪ': 19,\n",
       " ' ': 47,\n",
       " '—': 2,\n",
       " 'Ƿ': 6,\n",
       " 'Ɯ': 19,\n",
       " 'Ǝ': 25,\n",
       " 'Ɔ': 3,\n",
       " 'Ʊ': 18,\n",
       " 'ƫ': 3,\n",
       " 'Ɣ': 8,\n",
       " 'Ɲ': 10,\n",
       " 'Ƹ': 6,\n",
       " 'Ʈ': 6,\n",
       " 'ƍ': 4,\n",
       " 'Ɵ': 6,\n",
       " 'Ɨ': 7,\n",
       " 'ƺ': 2,\n",
       " '.': 4,\n",
       " 'Ƒ': 14,\n",
       " ',': 3,\n",
       " 'Ƣ': 5,\n",
       " '”': 1,\n",
       " 'Ʒ': 7,\n",
       " 'Ƨ': 1,\n",
       " 'Ƌ': 7,\n",
       " 'Ə': 2,\n",
       " 'ƾ': 1,\n",
       " '-': 1}"
      ]
     },
     "execution_count": 21,
     "metadata": {},
     "output_type": "execute_result"
    }
   ],
   "source": [
    "histogram ('ƵƐƄƼƇƪƐ — ǷƜƎ ƜƎƆƱƎƐ ƫƎƔƜƎƝƐƱƪƐ ƎƸƱƎƮƎ ƪ ƜƎƮƎ ƍƐ ƸƐƟƗƜƔƪƺ. ƝƑƄ ƄƑ ƝƑƄƎƇ, Ɣ ƱƑƸƐƍƸƐ ƱƑ ƪƄƇƐƱƐƱƪƐ. ǷƜƎ ƐƗƜƢ ƵƐƄƼƇƪƐ”, — ƑƷƢƵƐƝƜ ǷƟƱƧƜƐƟƱ ǷƜƎƮƎ ƱƐ ƮƎƔƎƝƪƷ. ƋƑƋ ƪ ƱƐ ƮƎƔƎƝƪƷ ǷƜƎƮƎ ƑƇƐƝƪƋƑƱƗƋƪƟ ƫƎƷƪƜƪƆƐƗƋƪƟ ƸƐƺƜƐƷƢ ƵƐƱƸƍƑƇƪƱ ƏƝƑƱƋƷƪƱ ƪ ƫƪƗƑƜƐƷƢ ƇƑƝƋ ƜƔƐƱ. ƱƎ ƔƗƾ ƍƐ, ƆƜƎ-ƜƎ Ɣ ǷƜƎƟ ƏƝƑƄƐ ƐƗƜƢ')"
   ]
  },
  {
   "cell_type": "code",
   "execution_count": 22,
   "metadata": {},
   "outputs": [
    {
     "name": "stdout",
     "output_type": "stream",
     "text": [
      "Insert a digit: 0\n",
      "Please insert not a 0\n"
     ]
    }
   ],
   "source": [
    "try:\n",
    "    x=int(input('Insert a digit: '))\n",
    "    print(5/x)\n",
    "except:\n",
    "    print ('Please insert not a 0')"
   ]
  },
  {
   "cell_type": "code",
   "execution_count": null,
   "metadata": {},
   "outputs": [],
   "source": []
  },
  {
   "cell_type": "code",
   "execution_count": 23,
   "metadata": {},
   "outputs": [
    {
     "ename": "ZeroDivisionError",
     "evalue": "division by zero",
     "output_type": "error",
     "traceback": [
      "\u001b[1;31m---------------------------------------------------------------------------\u001b[0m",
      "\u001b[1;31mZeroDivisionError\u001b[0m                         Traceback (most recent call last)",
      "\u001b[1;32m<ipython-input-23-221068dc2815>\u001b[0m in \u001b[0;36m<module>\u001b[1;34m\u001b[0m\n\u001b[1;32m----> 1\u001b[1;33m \u001b[1;36m4\u001b[0m\u001b[1;33m/\u001b[0m\u001b[1;36m0\u001b[0m\u001b[1;33m\u001b[0m\u001b[1;33m\u001b[0m\u001b[0m\n\u001b[0m",
      "\u001b[1;31mZeroDivisionError\u001b[0m: division by zero"
     ]
    }
   ],
   "source": [
    "4/0"
   ]
  },
  {
   "cell_type": "code",
   "execution_count": 26,
   "metadata": {},
   "outputs": [
    {
     "name": "stdout",
     "output_type": "stream",
     "text": [
      "Insert a digit: 0\n",
      "Please insert not a 0\n",
      "division by zero\n"
     ]
    }
   ],
   "source": [
    "try:\n",
    "    x=int(input('Insert a digit: '))\n",
    "    print(5/x)\n",
    "except ZeroDivisionError as z:\n",
    "    print ('Please insert not a 0')\n",
    "    print(z)\n",
    "except ValueError as v:\n",
    "    print ('Please insert not a alpha')\n",
    "    print(v)"
   ]
  },
  {
   "cell_type": "code",
   "execution_count": 25,
   "metadata": {},
   "outputs": [
    {
     "name": "stdout",
     "output_type": "stream",
     "text": [
      " end\n"
     ]
    }
   ],
   "source": [
    "import re\n",
    "f = '.end'\n",
    "print (re.search(f,'The end').group())\n"
   ]
  },
  {
   "cell_type": "code",
   "execution_count": 27,
   "metadata": {},
   "outputs": [
    {
     "name": "stdout",
     "output_type": "stream",
     "text": [
      "c3p0\n"
     ]
    }
   ],
   "source": [
    "print (re.match('[cr][23][dp][02]','c3p0').group())"
   ]
  },
  {
   "cell_type": "code",
   "execution_count": 28,
   "metadata": {},
   "outputs": [
    {
     "name": "stdout",
     "output_type": "stream",
     "text": [
      "nobody@xxx.com\n"
     ]
    }
   ],
   "source": [
    "print (re.match('\\w+@(\\w+\\.)?\\w+\\.com','nobody@xxx.com').group()) # 1 точка перед com "
   ]
  },
  {
   "cell_type": "code",
   "execution_count": 29,
   "metadata": {},
   "outputs": [
    {
     "name": "stdout",
     "output_type": "stream",
     "text": [
      "nobody@live.xxx.com\n"
     ]
    }
   ],
   "source": [
    "print (re.match('\\w+@(\\w+\\.)?\\w+\\.com','nobody@live.xxx.com').group()) # 2 точки перед com "
   ]
  },
  {
   "cell_type": "code",
   "execution_count": 30,
   "metadata": {},
   "outputs": [
    {
     "ename": "AttributeError",
     "evalue": "'NoneType' object has no attribute 'group'",
     "output_type": "error",
     "traceback": [
      "\u001b[1;31m---------------------------------------------------------------------------\u001b[0m",
      "\u001b[1;31mAttributeError\u001b[0m                            Traceback (most recent call last)",
      "\u001b[1;32m<ipython-input-30-2aa68ad4e425>\u001b[0m in \u001b[0;36m<module>\u001b[1;34m\u001b[0m\n\u001b[1;32m----> 1\u001b[1;33m \u001b[0mprint\u001b[0m \u001b[1;33m(\u001b[0m\u001b[0mre\u001b[0m\u001b[1;33m.\u001b[0m\u001b[0mmatch\u001b[0m\u001b[1;33m(\u001b[0m\u001b[1;34m'\\w+@(\\w+\\.)?\\w+\\.com'\u001b[0m\u001b[1;33m,\u001b[0m\u001b[1;34m'nobody@a.b.xxx.com'\u001b[0m\u001b[1;33m)\u001b[0m\u001b[1;33m.\u001b[0m\u001b[0mgroup\u001b[0m\u001b[1;33m(\u001b[0m\u001b[1;33m)\u001b[0m\u001b[1;33m)\u001b[0m\u001b[1;33m\u001b[0m\u001b[1;33m\u001b[0m\u001b[0m\n\u001b[0m",
      "\u001b[1;31mAttributeError\u001b[0m: 'NoneType' object has no attribute 'group'"
     ]
    }
   ],
   "source": [
    "print (re.match('\\w+@(\\w+\\.)?\\w+\\.com','nobody@a.b.xxx.com').group()) # несколько точек после собаки"
   ]
  },
  {
   "cell_type": "code",
   "execution_count": null,
   "metadata": {},
   "outputs": [],
   "source": []
  }
 ],
 "metadata": {
  "kernelspec": {
   "display_name": "Python 3",
   "language": "python",
   "name": "python3"
  },
  "language_info": {
   "codemirror_mode": {
    "name": "ipython",
    "version": 3
   },
   "file_extension": ".py",
   "mimetype": "text/x-python",
   "name": "python",
   "nbconvert_exporter": "python",
   "pygments_lexer": "ipython3",
   "version": "3.7.1"
  }
 },
 "nbformat": 4,
 "nbformat_minor": 2
}
