{
 "cells": [
  {
   "cell_type": "code",
   "execution_count": 1,
   "metadata": {},
   "outputs": [
    {
     "name": "stdout",
     "output_type": "stream",
     "text": [
      "das\n"
     ]
    }
   ],
   "source": [
    "print ('das')"
   ]
  },
  {
   "cell_type": "code",
   "execution_count": 2,
   "metadata": {},
   "outputs": [
    {
     "data": {
      "text/plain": [
       "{1, 3}"
      ]
     },
     "execution_count": 2,
     "metadata": {},
     "output_type": "execute_result"
    }
   ],
   "source": [
    "set([3, 1, 3])"
   ]
  },
  {
   "cell_type": "code",
   "execution_count": 3,
   "metadata": {},
   "outputs": [
    {
     "data": {
      "text/plain": [
       "{0, 1, 2, 3, 4, 5, 6, 7, 8, 9, 10, 11, 12, 13, 14, 15, 16, 17, 18, 19}"
      ]
     },
     "execution_count": 3,
     "metadata": {},
     "output_type": "execute_result"
    }
   ],
   "source": [
    "set (range(0,20))"
   ]
  },
  {
   "cell_type": "code",
   "execution_count": 5,
   "metadata": {},
   "outputs": [],
   "source": [
    "s1 = set(range(0,5))"
   ]
  },
  {
   "cell_type": "code",
   "execution_count": 6,
   "metadata": {},
   "outputs": [],
   "source": [
    "s1.add('5')"
   ]
  },
  {
   "cell_type": "code",
   "execution_count": 7,
   "metadata": {},
   "outputs": [
    {
     "data": {
      "text/plain": [
       "{0, 1, 2, 3, 4, '5'}"
      ]
     },
     "execution_count": 7,
     "metadata": {},
     "output_type": "execute_result"
    }
   ],
   "source": [
    "s1\n"
   ]
  },
  {
   "cell_type": "code",
   "execution_count": 8,
   "metadata": {},
   "outputs": [],
   "source": [
    "s1.add(4)"
   ]
  },
  {
   "cell_type": "code",
   "execution_count": 9,
   "metadata": {},
   "outputs": [
    {
     "data": {
      "text/plain": [
       "{0, 1, 2, 3, 4, '5'}"
      ]
     },
     "execution_count": 9,
     "metadata": {},
     "output_type": "execute_result"
    }
   ],
   "source": [
    "s1"
   ]
  },
  {
   "cell_type": "code",
   "execution_count": 10,
   "metadata": {},
   "outputs": [
    {
     "data": {
      "text/plain": [
       "(4, '2', 5)"
      ]
     },
     "execution_count": 10,
     "metadata": {},
     "output_type": "execute_result"
    }
   ],
   "source": [
    "(4, '2', 5)"
   ]
  },
  {
   "cell_type": "code",
   "execution_count": 11,
   "metadata": {},
   "outputs": [],
   "source": [
    "eng2sp = dict()\n"
   ]
  },
  {
   "cell_type": "code",
   "execution_count": 12,
   "metadata": {},
   "outputs": [
    {
     "data": {
      "text/plain": [
       "{}"
      ]
     },
     "execution_count": 12,
     "metadata": {},
     "output_type": "execute_result"
    }
   ],
   "source": [
    "eng2sp"
   ]
  },
  {
   "cell_type": "code",
   "execution_count": 13,
   "metadata": {},
   "outputs": [],
   "source": [
    "eng2sp['one']='uno'"
   ]
  },
  {
   "cell_type": "code",
   "execution_count": 15,
   "metadata": {},
   "outputs": [
    {
     "data": {
      "text/plain": [
       "{'one': 'uno'}"
      ]
     },
     "execution_count": 15,
     "metadata": {},
     "output_type": "execute_result"
    }
   ],
   "source": [
    "eng2sp\n"
   ]
  },
  {
   "cell_type": "code",
   "execution_count": 16,
   "metadata": {},
   "outputs": [],
   "source": [
    "def histogram(s):\n",
    "    d=dict()\n",
    "    for c in s: \n",
    "        if c not in d:\n",
    "            d[c] = 1\n",
    "        else:\n",
    "            d[c]=d[c]+1\n",
    "    return d"
   ]
  },
  {
   "cell_type": "code",
   "execution_count": 18,
   "metadata": {},
   "outputs": [
    {
     "data": {
      "text/plain": [
       "{2: 2, 5: 3, 12: 2, 13: 1}"
      ]
     },
     "execution_count": 18,
     "metadata": {},
     "output_type": "execute_result"
    }
   ],
   "source": [
    "histogram ([2, 5, 5, 5, 2, 12, 13, 12])"
   ]
  },
  {
   "cell_type": "code",
   "execution_count": 19,
   "metadata": {},
   "outputs": [
    {
     "data": {
      "text/plain": [
       "{'А': 27,\n",
       " 'Б': 54,\n",
       " 'В': 18,\n",
       " 'Г': 13,\n",
       " 'Д': 12,\n",
       " 'Е': 107,\n",
       " 'Ё': 13,\n",
       " 'Ж': 20,\n",
       " 'З': 11,\n",
       " 'И': 21,\n",
       " 'Й': 38,\n",
       " 'К': 10,\n",
       " 'Л': 9,\n",
       " 'М': 26,\n",
       " 'Н': 15,\n",
       " 'О': 4,\n",
       " 'П': 19,\n",
       " 'Р': 43,\n",
       " 'С': 12,\n",
       " 'Т': 42,\n",
       " 'У': 26,\n",
       " 'Ф': 5,\n",
       " 'Х': 10,\n",
       " 'Ц': 10,\n",
       " 'Ч': 8,\n",
       " 'Ш': 3,\n",
       " 'Щ': 6,\n",
       " 'Ъ': 2,\n",
       " 'Ы': 4,\n",
       " 'Ь': 2,\n",
       " 'Э': 1}"
      ]
     },
     "execution_count": 19,
     "metadata": {},
     "output_type": "execute_result"
    }
   ],
   "source": [
    "histogram ('АБВГДАВЕЁЖЗИЖЙКЕЕЛБМНАБЕОПБМРЕКИРСЕЗБАБПТВЕЁТЙУМРЙМЖЙРЕУЖФТЙТПРЕЕУБАНБЕКИРСРЕЕАРУУПБМЕЗРАТХТВЙРДЕУЖАБЙРЕВТЦВГЕАРСИЧЁРЕУБАНШЕУИБВЕСРЕПЖЙМТФЕЩБКЧЪБШЕЗБЙНЕЕЛЫАЙНБЕКИРСРЕЕЦРАРЕПЕФТАБЕУТЙЙНХЕСПЫСВЕУЁТИГЦБЙГБЕЖЕЧЕЩТАМРЕВТЕЧМАРЕЗТОБИЧБПЕТМАРЦБЙГБЕЕУЖЙЖБЕКИРСРЕЕИЧЙРЕПРИГУРЕЩБИТБЕФТИЛРЙГБЕБЦБВЙБПЙРДЕУМБЙРЕЙБЖСЩБЦЙТКТЕЗАТЪРЙГДЕЕЁРАЖБЕКИРСРЕЕЗБУТЁЕТУБЙГЕПТИЛГДЕУМБЗГЕТХТМРЕУЁРЛЁРЕПУДЕЙРЕПТИТУТЁЕТМЕЗРВБЙГДЕЖЕЗТИЫМРЕЕЙБМЕДЕЙБЕУЧВГДЕВИДЕЙЖХЕЗАТУМТЕЩБСЕУЧЦВБЙЖШЕПСВТАЙНХЕДЕЛБМНАБЦВНЕВТИЦЙЖЁЕУЖЙЖХЕУБАНХЕЁРАЖХЕЛЫАЙНХЕЕЁРЁЕЛБМНАБЕУМТАТЙНЕТВЙТКТЕМТКТЕЦБЕОПБМРЕДЕИЬЩИЬЕЕПЕМТФЕЙБМЕПЖЙНЕЕПУБЕЛБМНАБЕЭМЖХЕОПБМР')"
   ]
  },
  {
   "cell_type": "code",
   "execution_count": 21,
   "metadata": {},
   "outputs": [
    {
     "data": {
      "text/plain": [
       "{'Ƶ': 4,\n",
       " 'Ɛ': 29,\n",
       " 'Ƅ': 7,\n",
       " 'Ƽ': 2,\n",
       " 'Ƈ': 7,\n",
       " 'ƪ': 19,\n",
       " ' ': 47,\n",
       " '—': 2,\n",
       " 'Ƿ': 6,\n",
       " 'Ɯ': 19,\n",
       " 'Ǝ': 25,\n",
       " 'Ɔ': 3,\n",
       " 'Ʊ': 18,\n",
       " 'ƫ': 3,\n",
       " 'Ɣ': 8,\n",
       " 'Ɲ': 10,\n",
       " 'Ƹ': 6,\n",
       " 'Ʈ': 6,\n",
       " 'ƍ': 4,\n",
       " 'Ɵ': 6,\n",
       " 'Ɨ': 7,\n",
       " 'ƺ': 2,\n",
       " '.': 4,\n",
       " 'Ƒ': 14,\n",
       " ',': 3,\n",
       " 'Ƣ': 5,\n",
       " '”': 1,\n",
       " 'Ʒ': 7,\n",
       " 'Ƨ': 1,\n",
       " 'Ƌ': 7,\n",
       " 'Ə': 2,\n",
       " 'ƾ': 1,\n",
       " '-': 1}"
      ]
     },
     "execution_count": 21,
     "metadata": {},
     "output_type": "execute_result"
    }
   ],
   "source": [
    "histogram ('ƵƐƄƼƇƪƐ — ǷƜƎ ƜƎƆƱƎƐ ƫƎƔƜƎƝƐƱƪƐ ƎƸƱƎƮƎ ƪ ƜƎƮƎ ƍƐ ƸƐƟƗƜƔƪƺ. ƝƑƄ ƄƑ ƝƑƄƎƇ, Ɣ ƱƑƸƐƍƸƐ ƱƑ ƪƄƇƐƱƐƱƪƐ. ǷƜƎ ƐƗƜƢ ƵƐƄƼƇƪƐ”, — ƑƷƢƵƐƝƜ ǷƟƱƧƜƐƟƱ ǷƜƎƮƎ ƱƐ ƮƎƔƎƝƪƷ. ƋƑƋ ƪ ƱƐ ƮƎƔƎƝƪƷ ǷƜƎƮƎ ƑƇƐƝƪƋƑƱƗƋƪƟ ƫƎƷƪƜƪƆƐƗƋƪƟ ƸƐƺƜƐƷƢ ƵƐƱƸƍƑƇƪƱ ƏƝƑƱƋƷƪƱ ƪ ƫƪƗƑƜƐƷƢ ƇƑƝƋ ƜƔƐƱ. ƱƎ ƔƗƾ ƍƐ, ƆƜƎ-ƜƎ Ɣ ǷƜƎƟ ƏƝƑƄƐ ƐƗƜƢ')"
   ]
  },
  {
   "cell_type": "code",
   "execution_count": 22,
   "metadata": {},
   "outputs": [
    {
     "name": "stdout",
     "output_type": "stream",
     "text": [
      "Insert a digit: 0\n",
      "Please insert not a 0\n"
     ]
    }
   ],
   "source": [
    "try:\n",
    "    x=int(input('Insert a digit: '))\n",
    "    print(5/x)\n",
    "except:\n",
    "    print ('Please insert not a 0')"
   ]
  },
  {
   "cell_type": "code",
   "execution_count": null,
   "metadata": {},
   "outputs": [],
   "source": []
  },
  {
   "cell_type": "code",
   "execution_count": 23,
   "metadata": {},
   "outputs": [
    {
     "ename": "ZeroDivisionError",
     "evalue": "division by zero",
     "output_type": "error",
     "traceback": [
      "\u001b[1;31m---------------------------------------------------------------------------\u001b[0m",
      "\u001b[1;31mZeroDivisionError\u001b[0m                         Traceback (most recent call last)",
      "\u001b[1;32m<ipython-input-23-221068dc2815>\u001b[0m in \u001b[0;36m<module>\u001b[1;34m\u001b[0m\n\u001b[1;32m----> 1\u001b[1;33m \u001b[1;36m4\u001b[0m\u001b[1;33m/\u001b[0m\u001b[1;36m0\u001b[0m\u001b[1;33m\u001b[0m\u001b[1;33m\u001b[0m\u001b[0m\n\u001b[0m",
      "\u001b[1;31mZeroDivisionError\u001b[0m: division by zero"
     ]
    }
   ],
   "source": [
    "4/0"
   ]
  },
  {
   "cell_type": "code",
   "execution_count": 26,
   "metadata": {},
   "outputs": [
    {
     "name": "stdout",
     "output_type": "stream",
     "text": [
      "Insert a digit: 0\n",
      "Please insert not a 0\n",
      "division by zero\n"
     ]
    }
   ],
   "source": [
    "try:\n",
    "    x=int(input('Insert a digit: '))\n",
    "    print(5/x)\n",
    "except ZeroDivisionError as z:\n",
    "    print ('Please insert not a 0')\n",
    "    print(z)\n",
    "except ValueError as v:\n",
    "    print ('Please insert not a alpha')\n",
    "    print(v)"
   ]
  },
  {
   "cell_type": "code",
   "execution_count": 2,
   "metadata": {},
   "outputs": [
    {
     "name": "stdout",
     "output_type": "stream",
     "text": [
      " end\n"
     ]
    }
   ],
   "source": [
    "import re\n",
    "f = '.end'\n",
    "print (re.search(f,'The end').group())\n"
   ]
  },
  {
   "cell_type": "code",
   "execution_count": 27,
   "metadata": {},
   "outputs": [
    {
     "name": "stdout",
     "output_type": "stream",
     "text": [
      "c3p0\n"
     ]
    }
   ],
   "source": [
    "print (re.match('[cr][23][dp][02]','c3p0').group())"
   ]
  },
  {
   "cell_type": "code",
   "execution_count": 28,
   "metadata": {},
   "outputs": [
    {
     "name": "stdout",
     "output_type": "stream",
     "text": [
      "nobody@xxx.com\n"
     ]
    }
   ],
   "source": [
    "print (re.match('\\w+@(\\w+\\.)?\\w+\\.com','nobody@xxx.com').group()) # 1 точка перед com "
   ]
  },
  {
   "cell_type": "code",
   "execution_count": 29,
   "metadata": {},
   "outputs": [
    {
     "name": "stdout",
     "output_type": "stream",
     "text": [
      "nobody@live.xxx.com\n"
     ]
    }
   ],
   "source": [
    "print (re.match('\\w+@(\\w+\\.)?\\w+\\.com','nobody@live.xxx.com').group()) # 2 точки перед com "
   ]
  },
  {
   "cell_type": "code",
   "execution_count": 31,
   "metadata": {},
   "outputs": [
    {
     "name": "stdout",
     "output_type": "stream",
     "text": [
      "nobody@a.b.xxx.com\n"
     ]
    }
   ],
   "source": [
    "print (re.match('\\w+@(\\w+\\.)*\\w+\\.com','nobody@a.b.xxx.com').group()) # несколько точек после собаки (вопрос поменялся на звездочку)"
   ]
  },
  {
   "cell_type": "code",
   "execution_count": 32,
   "metadata": {},
   "outputs": [
    {
     "name": "stdout",
     "output_type": "stream",
     "text": [
      "abc-123\n"
     ]
    }
   ],
   "source": [
    "print (re.match('(\\w\\w\\w)-(\\d\\d\\d)','abc-123').group())"
   ]
  },
  {
   "cell_type": "code",
   "execution_count": 33,
   "metadata": {},
   "outputs": [
    {
     "name": "stdout",
     "output_type": "stream",
     "text": [
      "abc\n"
     ]
    }
   ],
   "source": [
    "print (re.match('(\\w\\w\\w)-(\\d\\d\\d)','abc-123').group(1))"
   ]
  },
  {
   "cell_type": "code",
   "execution_count": 34,
   "metadata": {},
   "outputs": [
    {
     "name": "stdout",
     "output_type": "stream",
     "text": [
      "123\n"
     ]
    }
   ],
   "source": [
    "print (re.match('(\\w\\w\\w)-(\\d\\d\\d)','abc-123').group(2))"
   ]
  },
  {
   "cell_type": "code",
   "execution_count": 35,
   "metadata": {},
   "outputs": [
    {
     "name": "stdout",
     "output_type": "stream",
     "text": [
      "('abc', '123')\n"
     ]
    }
   ],
   "source": [
    "print (re.match('(\\w\\w\\w)-(\\d\\d\\d)','abc-123').groups())"
   ]
  },
  {
   "cell_type": "code",
   "execution_count": 36,
   "metadata": {},
   "outputs": [
    {
     "name": "stdout",
     "output_type": "stream",
     "text": [
      "The\n"
     ]
    }
   ],
   "source": [
    "print (re.search('^The','The game').group())"
   ]
  },
  {
   "cell_type": "code",
   "execution_count": 37,
   "metadata": {},
   "outputs": [
    {
     "ename": "AttributeError",
     "evalue": "'NoneType' object has no attribute 'group'",
     "output_type": "error",
     "traceback": [
      "\u001b[1;31m---------------------------------------------------------------------------\u001b[0m",
      "\u001b[1;31mAttributeError\u001b[0m                            Traceback (most recent call last)",
      "\u001b[1;32m<ipython-input-37-75fc8a43825e>\u001b[0m in \u001b[0;36m<module>\u001b[1;34m\u001b[0m\n\u001b[1;32m----> 1\u001b[1;33m \u001b[0mprint\u001b[0m \u001b[1;33m(\u001b[0m\u001b[0mre\u001b[0m\u001b[1;33m.\u001b[0m\u001b[0msearch\u001b[0m\u001b[1;33m(\u001b[0m\u001b[1;34m'^The'\u001b[0m\u001b[1;33m,\u001b[0m\u001b[1;34m'game The'\u001b[0m\u001b[1;33m)\u001b[0m\u001b[1;33m.\u001b[0m\u001b[0mgroup\u001b[0m\u001b[1;33m(\u001b[0m\u001b[1;33m)\u001b[0m\u001b[1;33m)\u001b[0m\u001b[1;33m\u001b[0m\u001b[1;33m\u001b[0m\u001b[0m\n\u001b[0m",
      "\u001b[1;31mAttributeError\u001b[0m: 'NoneType' object has no attribute 'group'"
     ]
    }
   ],
   "source": [
    "print (re.search('^The','game The').group())"
   ]
  },
  {
   "cell_type": "code",
   "execution_count": 39,
   "metadata": {},
   "outputs": [
    {
     "name": "stdout",
     "output_type": "stream",
     "text": [
      "the\n"
     ]
    }
   ],
   "source": [
    "print (re.search(r'\\bthe','game the best').group())"
   ]
  },
  {
   "cell_type": "code",
   "execution_count": 40,
   "metadata": {},
   "outputs": [
    {
     "ename": "AttributeError",
     "evalue": "'NoneType' object has no attribute 'group'",
     "output_type": "error",
     "traceback": [
      "\u001b[1;31m---------------------------------------------------------------------------\u001b[0m",
      "\u001b[1;31mAttributeError\u001b[0m                            Traceback (most recent call last)",
      "\u001b[1;32m<ipython-input-40-0238eee42bce>\u001b[0m in \u001b[0;36m<module>\u001b[1;34m\u001b[0m\n\u001b[1;32m----> 1\u001b[1;33m \u001b[0mprint\u001b[0m \u001b[1;33m(\u001b[0m\u001b[0mre\u001b[0m\u001b[1;33m.\u001b[0m\u001b[0msearch\u001b[0m\u001b[1;33m(\u001b[0m\u001b[1;34mr'\\bthe'\u001b[0m\u001b[1;33m,\u001b[0m\u001b[1;34m'gamethe best'\u001b[0m\u001b[1;33m)\u001b[0m\u001b[1;33m.\u001b[0m\u001b[0mgroup\u001b[0m\u001b[1;33m(\u001b[0m\u001b[1;33m)\u001b[0m\u001b[1;33m)\u001b[0m\u001b[1;33m\u001b[0m\u001b[1;33m\u001b[0m\u001b[0m\n\u001b[0m",
      "\u001b[1;31mAttributeError\u001b[0m: 'NoneType' object has no attribute 'group'"
     ]
    }
   ],
   "source": [
    "print (re.search(r'\\bthe','gamethe best').group())"
   ]
  },
  {
   "cell_type": "code",
   "execution_count": 42,
   "metadata": {},
   "outputs": [
    {
     "name": "stdout",
     "output_type": "stream",
     "text": [
      "['car', 'car', 'car']\n"
     ]
    }
   ],
   "source": [
    "print (re.findall('car','carry the barcar in car'))"
   ]
  },
  {
   "cell_type": "code",
   "execution_count": 43,
   "metadata": {},
   "outputs": [
    {
     "name": "stdout",
     "output_type": "stream",
     "text": [
      "XbcdXf\n"
     ]
    }
   ],
   "source": [
    "print (re.sub('[ae]','X','abcdef'))"
   ]
  },
  {
   "cell_type": "code",
   "execution_count": 44,
   "metadata": {},
   "outputs": [
    {
     "name": "stdout",
     "output_type": "stream",
     "text": [
      "('XbcdXf', 2)\n"
     ]
    }
   ],
   "source": [
    "print (re.subn('[ae]','X','abcdef'))"
   ]
  },
  {
   "cell_type": "code",
   "execution_count": 45,
   "metadata": {},
   "outputs": [
    {
     "name": "stdout",
     "output_type": "stream",
     "text": [
      "Эта строка написана DD.MM.YYYY, а могла бы и DD.MM.YYYY\n"
     ]
    }
   ],
   "source": [
    "print(re.sub(r'\\d\\d\\.\\d\\d\\.\\d{4}', \n",
    "             r'DD.MM.YYYY', \n",
    "             r'Эта строка написана 19.01.2018, а могла бы и 01.09.2017')) "
   ]
  },
  {
   "cell_type": "code",
   "execution_count": 5,
   "metadata": {},
   "outputs": [
    {
     "data": {
      "text/plain": [
       "{'areacode': '800', 'prefix': '555'}"
      ]
     },
     "execution_count": 5,
     "metadata": {},
     "output_type": "execute_result"
    }
   ],
   "source": [
    "re.search(r'\\((?P<areacode>\\d{3})\\) (?P<prefix>\\d{3})-(?:\\d{4})','(800) 555-1212').groupdict() # группировка по словарю"
   ]
  },
  {
   "cell_type": "code",
   "execution_count": 8,
   "metadata": {},
   "outputs": [
    {
     "data": {
      "text/plain": [
       "'(100) 222-xxxx'"
      ]
     },
     "execution_count": 8,
     "metadata": {},
     "output_type": "execute_result"
    }
   ],
   "source": [
    "re.sub(r'\\((?P<codarea>\\d{3})\\) (?P<codeno>\\d{3})-(?:\\d{4})','(\\g<codarea>) \\g<codeno>-xxxx','(100) 222-3535') \n",
    "# ?P<name> сохранение  результата сопоставление, ?P=name повторное использование шаблона"
   ]
  },
  {
   "cell_type": "code",
   "execution_count": 9,
   "metadata": {},
   "outputs": [],
   "source": [
    "import os\n"
   ]
  },
  {
   "cell_type": "code",
   "execution_count": 17,
   "metadata": {},
   "outputs": [
    {
     "name": "stdout",
     "output_type": "stream",
     "text": [
      "[]\n",
      "[('System Idle Process', '0', '8 ')]\n",
      "[('System', '4', '10')]\n",
      "[('Registry', '96', '11')]\n",
      "[('smss.exe', '432', '284 ')]\n",
      "[('csrss.exe', '596', '1')]\n",
      "[('wininit.exe', '696', '40 ')]\n",
      "[('services.exe', '840', '6')]\n",
      "[('lsass.exe', '856', '11')]\n",
      "[('svchost.exe', '980', '392 ')]\n",
      "[('WUDFHost.exe', '1004', '2')]\n",
      "[('fontdrvhost.exe', '72', '696 ')]\n",
      "[('svchost.exe', '532', '17')]\n",
      "[('WUDFHost.exe', '812', '96 ')]\n",
      "[('svchost.exe', '1076', '10')]\n",
      "[('svchost.exe', '1124', '4')]\n",
      "[('svchost.exe', '1312', '12')]\n",
      "[('svchost.exe', '1328', '4')]\n",
      "[('svchost.exe', '1440', '4')]\n",
      "[('svchost.exe', '1492', '740 ')]\n",
      "[('svchost.exe', '1560', '8')]\n",
      "[('NVDisplay.Container.exe', '1716', '6')]\n",
      "[('svchost.exe', '1740', '2')]\n",
      "[('svchost.exe', '1820', '12')]\n",
      "[('svchost.exe', '1872', '1')]\n",
      "[('svchost.exe', '1888', '100')]\n",
      "[('svchost.exe', '1900', '4')]\n",
      "[('svchost.exe', '1940', '3')]\n",
      "[('svchost.exe', '1948', '5')]\n",
      "[('svchost.exe', '2024', '3')]\n",
      "[('Memory Compression', '2036', '274')]\n",
      "[('svchost.exe', '1248', '4')]\n",
      "[('igfxCUIService.exe', '2056', '1')]\n",
      "[('svchost.exe', '2116', '592 ')]\n",
      "[('svchost.exe', '2128', '2')]\n",
      "[('svchost.exe', '2188', '8')]\n",
      "[('svchost.exe', '2220', '3')]\n",
      "[('svchost.exe', '2336', '4')]\n",
      "[('svchost.exe', '2428', '6')]\n",
      "[('svchost.exe', '2488', '12')]\n",
      "[('RtkAudioService64.exe', '2528', '92 ')]\n",
      "[('svchost.exe', '2588', '5')]\n",
      "[('svchost.exe', '2596', '2')]\n",
      "[('svchost.exe', '2604', '6')]\n",
      "[('svchost.exe', '2768', '11')]\n",
      "[('svchost.exe', '3140', '6')]\n",
      "[('svchost.exe', '3248', '4')]\n",
      "[('svchost.exe', '3332', '2')]\n",
      "[('svchost.exe', '3420', '548 ')]\n",
      "[('svchost.exe', '3448', '2')]\n",
      "[('svchost.exe', '3496', '3')]\n",
      "[('svchost.exe', '3828', '11')]\n",
      "[('svchost.exe', '3836', '19')]\n",
      "[('svchost.exe', '4016', '11')]\n",
      "[('svchost.exe', '4064', '4')]\n",
      "[('svchost.exe', '1624', '2')]\n",
      "[('svchost.exe', '2384', '3')]\n",
      "[('svchost.exe', '3468', '2')]\n",
      "[('svchost.exe', '3664', '11')]\n",
      "[('svchost.exe', '4148', '6')]\n",
      "[('svchost.exe', '4156', '7')]\n",
      "[('spoolsv.exe', '4360', '6')]\n",
      "[('svchost.exe', '4408', '16')]\n",
      "[('remoting_host.exe', '4416', '708 ')]\n",
      "[('FNPLicensingService64.exe', '4424', '1')]\n",
      "[('IntelCpHDCPSvc.exe', '4432', '1')]\n",
      "[('EvtEng.exe', '4440', '5')]\n",
      "[('svchost.exe', '4448', '7')]\n",
      "[('esif_uf.exe', '4456', '52 ')]\n",
      "[('ibtsiva.exe', '4464', '48 ')]\n",
      "[('svchost.exe', '4480', '36')]\n",
      "[('svchost.exe', '4488', '2')]\n",
      "[('IpOverUsbSvc.exe', '4496', '2')]\n",
      "[('mbbService.exe', '4512', '16')]\n",
      "[('sqlservr.exe', '4576', '356 ')]\n",
      "[('sqlservr.exe', '4608', '368 ')]\n",
      "[('sqlservr.exe', '4632', '356 ')]\n",
      "[('nvcontainer.exe', '4644', '6')]\n",
      "[('NvTelemetryContainer.exe', '4656', '2')]\n",
      "[('svchost.exe', '4692', '1')]\n",
      "[('RegSrvc.exe', '4700', '1')]\n",
      "[('sqlbrowser.exe', '4724', '92 ')]\n",
      "[('sqlwriter.exe', '4732', '1')]\n",
      "[('svchost.exe', '4768', '1')]\n",
      "[('svchost.exe', '4776', '480 ')]\n",
      "[('WavesSysSvc64.exe', '4792', '92 ')]\n",
      "[('svchost.exe', '4808', '12')]\n",
      "[('ZeroConfigService.exe', '4828', '5')]\n",
      "[('svchost.exe', '4888', '628 ')]\n",
      "[('SecurityHealthService.exe', '4912', '2')]\n",
      "[('dasHost.exe', '5008', '10')]\n",
      "[('svchost.exe', '5028', '1')]\n",
      "[('svchost.exe', '5188', '4')]\n",
      "[('IntelCpHeciSvc.exe', '5232', '1')]\n",
      "[('svchost.exe', '5352', '4')]\n",
      "[('TeamViewer_Service.exe', '5444', '5')]\n",
      "[('unsecapp.exe', '5880', '2')]\n",
      "[('WmiPrvSE.exe', '6184', '8')]\n",
      "[('sqlservr.exe', '6652', '14')]\n",
      "[('wlanext.exe', '6676', '6')]\n",
      "[('conhost.exe', '6688', '308 ')]\n",
      "[('remoting_host.exe', '6916', '11')]\n",
      "[('dllhost.exe', '8164', '4')]\n",
      "[('PresentationFontCache.exe', '6168', '52 ')]\n",
      "[('svchost.exe', '8096', '1')]\n",
      "[('svchost.exe', '8944', '8')]\n",
      "[('svchost.exe', '5452', '10')]\n",
      "[('svchost.exe', '7424', '4')]\n",
      "[('GoogleCrashHandler.exe', '10108', '716 ')]\n",
      "[('GoogleCrashHandler64.exe', '10112', '108 ')]\n",
      "[('IAStorDataMgrSvc.exe', '8860', '11')]\n",
      "[('jhi_service.exe', '8752', '68 ')]\n",
      "[('LMS.exe', '6344', '1')]\n",
      "[('svchost.exe', '11016', '7')]\n",
      "[('svchost.exe', '13056', '472 ')]\n",
      "[('SgrmBroker.exe', '13264', '3')]\n",
      "[('svchost.exe', '12112', '3')]\n",
      "[('svchost.exe', '10652', '4')]\n",
      "[('svchost.exe', '2640', '3')]\n",
      "[('svchost.exe', '1728', '556 ')]\n",
      "[('svchost.exe', '5064', '10')]\n",
      "[('svchost.exe', '3868', '2')]\n",
      "[('svchost.exe', '7500', '10')]\n",
      "[('sedsvc.exe', '8336', '2')]\n",
      "[('svchost.exe', '12392', '532 ')]\n",
      "[('svchost.exe', '2664', '2')]\n",
      "[('svchost.exe', '6964', '3')]\n",
      "[('csrss.exe', '228', '2')]\n",
      "[('winlogon.exe', '12772', '2')]\n",
      "[('fontdrvhost.exe', '10420', '3')]\n",
      "[('dwm.exe', '9116', '143')]\n",
      "[('NVDisplay.Container.exe', '10728', '9')]\n",
      "[('svchost.exe', '2456', '2')]\n",
      "[('esif_assist_64.exe', '340', '508 ')]\n",
      "[('RAVBg64.exe', '2580', '648 ')]\n",
      "[('nvcontainer.exe', '13412', '3')]\n",
      "[('nvcontainer.exe', '3812', '9')]\n",
      "[('sihost.exe', '14192', '13')]\n",
      "[('svchost.exe', '7012', '12')]\n",
      "[('svchost.exe', '10756', '15')]\n",
      "[('taskhostw.exe', '13560', '8')]\n",
      "[('igfxEM.exe', '7716', '3')]\n",
      "[('explorer.exe', '11000', '117')]\n",
      "[('ShellExperienceHost.exe', '9660', '79')]\n",
      "[('SearchUI.exe', '10740', '148')]\n",
      "[('RuntimeBroker.exe', '13532', '17')]\n",
      "[('RuntimeBroker.exe', '12028', '14')]\n",
      "[('ctfmon.exe', '8500', '10')]\n",
      "[('SettingSyncHost.exe', '7748', '2')]\n",
      "[('CastSrv.exe', '13456', '6')]\n",
      "[('quickset.exe', '5036', '3')]\n",
      "[('RtkNGUI64.exe', '9504', '3')]\n",
      "[('RAVBg64.exe', '9264', '688 ')]\n",
      "[('WavesSvc64.exe', '11236', '4')]\n",
      "[('googledrivesync.exe', '9692', '36 ')]\n",
      "[('googledrivesync.exe', '10084', '23')]\n",
      "[('NVIDIA Web Helper.exe', '7668', '4')]\n",
      "[('conhost.exe', '11800', '104 ')]\n",
      "[('opera.exe', '14152', '176')]\n",
      "[('opera_crashreporter.exe', '5904', '1')]\n",
      "[('opera.exe', '8564', '184')]\n",
      "[('opera.exe', '10528', '3')]\n",
      "[('opera.exe', '11284', '28')]\n",
      "[('opera.exe', '2236', '3')]\n",
      "[('opera.exe', '3280', '10')]\n",
      "[('opera.exe', '6360', '101')]\n",
      "[('opera.exe', '10276', '12')]\n",
      "[('IAStorIcon.exe', '11600', '4')]\n",
      "[('nvsphelper64.exe', '11312', '764 ')]\n",
      "[('NVIDIA Share.exe', '10456', '10')]\n",
      "[('NVIDIA Share.exe', '8768', '12')]\n",
      "[('svchost.exe', '4116', '4')]\n",
      "[('OfficeClickToRun.exe', '11828', '19')]\n",
      "[('AppVShNotify.exe', '13432', '84 ')]\n",
      "[('AppVShNotify.exe', '8516', '32 ')]\n",
      "[('SearchIndexer.exe', '7248', '42')]\n",
      "[('opera.exe', '1400', '61')]\n",
      "[('OUTLOOK.EXE', '6928', '100')]\n",
      "[('dirmngr.exe', '10436', '2')]\n",
      "[('Viber.exe', '12148', '48')]\n",
      "[('Telegram.exe', '11848', '20')]\n",
      "[('FoxitReader.exe', '13004', '51')]\n",
      "[('cmd.exe', '4616', '44 ')]\n",
      "[('conhost.exe', '6628', '4')]\n",
      "[('jupyter.exe', '1200', '152 ')]\n",
      "[('python.exe', '4712', '2')]\n",
      "[('notebook.exe', '7752', '96 ')]\n",
      "[('python.exe', '11664', '31')]\n",
      "[('opera.exe', '12420', '107')]\n",
      "[('python.exe', '7676', '47')]\n",
      "[('svchost.exe', '10976', '9')]\n",
      "[('svchost.exe', '13288', '9')]\n",
      "[('opera.exe', '13592', '109')]\n",
      "[('opera.exe', '10824', '68')]\n",
      "[('opera.exe', '8800', '61')]\n",
      "[('opera.exe', '11568', '25')]\n",
      "[('smartscreen.exe', '3012', '22')]\n",
      "[('RuntimeBroker.exe', '9352', '24')]\n",
      "[('dllhost.exe', '4856', '9')]\n",
      "[('svchost.exe', '10680', '6')]\n",
      "[('SearchProtocolHost.exe', '7180', '10')]\n",
      "[('WmiPrvSE.exe', '9104', '9')]\n",
      "[('SearchFilterHost.exe', '13616', '6')]\n",
      "[('cmd.exe', '9568', '2')]\n",
      "[('tasklist.exe', '7744', '7')]\n"
     ]
    }
   ],
   "source": [
    "f=os.popen('tasklist /nh','r')\n",
    "for eachLine in f:\n",
    "    print (re.findall(r'([\\w.]+(?: [\\w.]+)*)\\s\\s+(\\d+) \\w+\\s\\s+\\d+\\s\\s+([\\d,]+ ?)', eachLine))\n",
    "f.close()"
   ]
  },
  {
   "cell_type": "code",
   "execution_count": 32,
   "metadata": {},
   "outputs": [
    {
     "ename": "OSError",
     "evalue": "[Errno 22] Invalid argument",
     "output_type": "error",
     "traceback": [
      "\u001b[1;31m---------------------------------------------------------------------------\u001b[0m",
      "\u001b[1;31mOSError\u001b[0m                                   Traceback (most recent call last)",
      "\u001b[1;32m<ipython-input-32-a03113868abd>\u001b[0m in \u001b[0;36m<module>\u001b[1;34m\u001b[0m\n\u001b[0;32m      9\u001b[0m \u001b[1;32mfor\u001b[0m \u001b[0mi\u001b[0m \u001b[1;32min\u001b[0m \u001b[0mrange\u001b[0m\u001b[1;33m(\u001b[0m\u001b[0mrandrange\u001b[0m\u001b[1;33m(\u001b[0m\u001b[1;36m5\u001b[0m\u001b[1;33m,\u001b[0m\u001b[1;36m11\u001b[0m\u001b[1;33m)\u001b[0m\u001b[1;33m)\u001b[0m\u001b[1;33m:\u001b[0m\u001b[1;33m\u001b[0m\u001b[1;33m\u001b[0m\u001b[0m\n\u001b[0;32m     10\u001b[0m     \u001b[0mdtint\u001b[0m \u001b[1;33m=\u001b[0m \u001b[0mrandrange\u001b[0m\u001b[1;33m(\u001b[0m\u001b[0mmaxsize\u001b[0m\u001b[1;33m)\u001b[0m\u001b[1;33m\u001b[0m\u001b[1;33m\u001b[0m\u001b[0m\n\u001b[1;32m---> 11\u001b[1;33m     \u001b[0mdtstr\u001b[0m \u001b[1;33m=\u001b[0m \u001b[0mctime\u001b[0m\u001b[1;33m(\u001b[0m\u001b[0mdtint\u001b[0m\u001b[1;33m)\u001b[0m\u001b[1;33m\u001b[0m\u001b[1;33m\u001b[0m\u001b[0m\n\u001b[0m\u001b[0;32m     12\u001b[0m     \u001b[0mllen\u001b[0m  \u001b[1;33m=\u001b[0m \u001b[0mrandrange\u001b[0m\u001b[1;33m(\u001b[0m\u001b[1;36m4\u001b[0m\u001b[1;33m,\u001b[0m \u001b[1;36m8\u001b[0m\u001b[1;33m)\u001b[0m\u001b[1;33m\u001b[0m\u001b[1;33m\u001b[0m\u001b[0m\n\u001b[0;32m     13\u001b[0m     \u001b[0mlogin\u001b[0m \u001b[1;33m=\u001b[0m \u001b[1;34m''\u001b[0m\u001b[1;33m.\u001b[0m\u001b[0mjoin\u001b[0m\u001b[1;33m(\u001b[0m\u001b[0mchoice\u001b[0m\u001b[1;33m(\u001b[0m\u001b[0mlc\u001b[0m\u001b[1;33m)\u001b[0m \u001b[1;32mfor\u001b[0m \u001b[0mj\u001b[0m \u001b[1;32min\u001b[0m \u001b[0mrange\u001b[0m\u001b[1;33m(\u001b[0m\u001b[0mllen\u001b[0m\u001b[1;33m)\u001b[0m\u001b[1;33m)\u001b[0m\u001b[1;33m\u001b[0m\u001b[1;33m\u001b[0m\u001b[0m\n",
      "\u001b[1;31mOSError\u001b[0m: [Errno 22] Invalid argument"
     ]
    }
   ],
   "source": [
    "from random import randrange,choice\n",
    "from string import ascii_lowercase as lc\n",
    "from sys import maxsize\n",
    "from time import ctime\n",
    "\n",
    "\n",
    "after_dot=('com','ru','net','gov')\n",
    "\n",
    "for i in range(randrange(5,11)):\n",
    "    dtint = randrange(maxsize)\n",
    "    dtstr = ctime(dtint)\n",
    "    llen  = randrange(4, 8)\n",
    "    login = ''.join(choice(lc) for j in range(llen))\n",
    "    dlen  = randrange(llen, 13)\n",
    "    dom   = ''.join(choice(lc) for j in range(dlen))\n",
    "    print ('%s::%s@%s.%s::%d-%d-%d' % (dtstr, login, dom, choice(after_dot), dtint, llen, dlen))"
   ]
  },
  {
   "cell_type": "code",
   "execution_count": null,
   "metadata": {},
   "outputs": [],
   "source": []
  },
  {
   "cell_type": "code",
   "execution_count": null,
   "metadata": {},
   "outputs": [],
   "source": []
  }
 ],
 "metadata": {
  "kernelspec": {
   "display_name": "Python 3",
   "language": "python",
   "name": "python3"
  },
  "language_info": {
   "codemirror_mode": {
    "name": "ipython",
    "version": 3
   },
   "file_extension": ".py",
   "mimetype": "text/x-python",
   "name": "python",
   "nbconvert_exporter": "python",
   "pygments_lexer": "ipython3",
   "version": "3.7.1"
  }
 },
 "nbformat": 4,
 "nbformat_minor": 2
}
